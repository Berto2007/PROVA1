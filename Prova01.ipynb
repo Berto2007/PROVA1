{
 "cells": [
  {
   "cell_type": "code",
   "execution_count": 3,
   "id": "5562f249-e248-4f31-98e5-e06f349be117",
   "metadata": {},
   "outputs": [
    {
     "name": "stdin",
     "output_type": "stream",
     "text": [
      "Digite o primeiro valor:  4\n",
      "Digite o segundo valor:  4\n",
      "Digite o terceiro valor:  4\n"
     ]
    },
    {
     "name": "stdout",
     "output_type": "stream",
     "text": [
      "Algo deu errado, tente novamente! \n"
     ]
    }
   ],
   "source": [
    "a = int(input(\"Digite o primeiro valor: \"))\n",
    "b = int(input(\"Digite o segundo valor: \"))\n",
    "c = int(input(\"Digite o terceiro valor: \"))\n",
    "\n",
    "if(a < b and a < c):\n",
    "    media = (b + c) / 2\n",
    "    print(f\"A média aritimética dos dois maiores valores digitados foi: {media}\")\n",
    "elif(b < a and b < c):\n",
    "    media = (a + c) / 2\n",
    "    print(f\"A média aritimética dos dois maiores valores digitados foi: {media}\")\n",
    "elif(c < a and c < b):\n",
    "    media = (a + b) / 2\n",
    "    print(f\"A média aritimética dos dois maiores valores digitados foi: {media}\")\n",
    "else:\n",
    "    print(\"Algo deu errado, tente novamente! \")"
   ]
  },
  {
   "cell_type": "code",
   "execution_count": null,
   "id": "a3de2cc8-4a5b-441a-84ad-126342afc54f",
   "metadata": {},
   "outputs": [],
   "source": []
  }
 ],
 "metadata": {
  "kernelspec": {
   "display_name": "Python 3 (ipykernel)",
   "language": "python",
   "name": "python3"
  },
  "language_info": {
   "codemirror_mode": {
    "name": "ipython",
    "version": 3
   },
   "file_extension": ".py",
   "mimetype": "text/x-python",
   "name": "python",
   "nbconvert_exporter": "python",
   "pygments_lexer": "ipython3",
   "version": "3.11.7"
  }
 },
 "nbformat": 4,
 "nbformat_minor": 5
}
